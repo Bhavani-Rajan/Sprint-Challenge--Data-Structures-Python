{
 "cells": [
  {
   "cell_type": "markdown",
   "metadata": {},
   "source": [
    "## Ring buffer"
   ]
  },
  {
   "cell_type": "code",
   "execution_count": 35,
   "metadata": {},
   "outputs": [],
   "source": [
    "\"\"\"Each ListNode holds a reference to its previous node\n",
    "as well as its next node in the List.\"\"\"\n",
    "\n",
    "\n",
    "class ListNode:\n",
    "    def __init__(self, value, prev=None, next=None):\n",
    "        self.value = value\n",
    "        self.prev = prev\n",
    "        self.next = next\n",
    "\n",
    "    \"\"\"Wrap the given value in a ListNode and insert it\n",
    "    after this node. Note that this node could already\n",
    "    have a next node it is point to.\"\"\"\n",
    "    def insert_after(self, value):\n",
    "        current_next = self.next\n",
    "        self.next = ListNode(value, self, current_next)\n",
    "        if current_next:\n",
    "            current_next.prev = self.next\n",
    "\n",
    "    \"\"\"Wrap the given value in a ListNode and insert it\n",
    "    before this node. Note that this node could already\n",
    "    have a previous node it is point to.\"\"\"\n",
    "    def insert_before(self, value):\n",
    "        current_prev = self.prev\n",
    "        self.prev = ListNode(value, current_prev, self)\n",
    "        if current_prev:\n",
    "            current_prev.next = self.prev\n",
    "\n",
    "    \"\"\"Rearranges this ListNode's previous and next pointers\n",
    "    accordingly, effectively deleting this ListNode.\"\"\"\n",
    "    def delete(self):\n",
    "        if self.prev:\n",
    "            self.prev.next = self.next\n",
    "        if self.next:\n",
    "            self.next.prev = self.prev\n",
    "\n",
    "\n",
    "\"\"\"Our doubly-linked list class. It holds references to\n",
    "the list's head and tail nodes.\"\"\"\n",
    "\n",
    "\n",
    "class DoublyLinkedList:\n",
    "    def __init__(self, node=None):\n",
    "        self.head = node\n",
    "        self.tail = node\n",
    "        self.length = 1 if node is not None else 0\n",
    "\n",
    "    def __len__(self):\n",
    "        return self.length\n",
    "\n",
    "    \"\"\"Wraps the given value in a ListNode and inserts it \n",
    "    as the new head of the list. Don't forget to handle \n",
    "    the old head node's previous pointer accordingly.\"\"\"\n",
    "    def add_to_head(self, value):\n",
    "        new_node = ListNode(value, None, None)\n",
    "        self.length += 1\n",
    "        if not self.head and not self.tail:\n",
    "            self.head = new_node\n",
    "            self.tail = new_node\n",
    "        else:\n",
    "            new_node.next = self.head\n",
    "            self.head.prev = new_node\n",
    "            self.head = new_node\n",
    "\n",
    "    \"\"\"Removes the List's current head node, making the\n",
    "    current head's next node the new head of the List.\n",
    "    Returns the value of the removed Node.\"\"\"\n",
    "    def remove_from_head(self):\n",
    "        value = self.head.value\n",
    "        self.delete(self.head)\n",
    "        return value\n",
    "\n",
    "    \"\"\"Wraps the given value in a ListNode and inserts it \n",
    "    as the new tail of the list. Don't forget to handle \n",
    "    the old tail node's next pointer accordingly.\"\"\"\n",
    "    def add_to_tail(self, value):\n",
    "        new_node = ListNode(value, None, None)\n",
    "        self.length += 1\n",
    "        if not self.head and not self.tail:\n",
    "            self.head = new_node\n",
    "            self.tail = new_node\n",
    "        else:\n",
    "            new_node.prev = self.tail\n",
    "            self.tail.next = new_node\n",
    "            self.tail = new_node\n",
    "\n",
    "    \"\"\"Removes the List's current tail node, making the \n",
    "    current tail's previous node the new tail of the List.\n",
    "    Returns the value of the removed Node.\"\"\"\n",
    "    def remove_from_tail(self):\n",
    "        value = self.tail.value\n",
    "        self.delete(self.tail)\n",
    "        return value\n",
    "\n",
    "    \"\"\"Removes the input node from its current spot in the \n",
    "    List and inserts it as the new head node of the List.\"\"\"\n",
    "    def move_to_front(self, node):\n",
    "        if node is self.head:\n",
    "            return\n",
    "        value = node.value\n",
    "        self.delete(node)\n",
    "        self.add_to_head(value)\n",
    "\n",
    "    \"\"\"Removes the input node from its current spot in the \n",
    "    List and inserts it as the new tail node of the List.\"\"\"\n",
    "    def move_to_end(self, node):\n",
    "        if node is self.tail:\n",
    "            return\n",
    "        value = node.value\n",
    "        self.delete(node)\n",
    "        self.add_to_tail(value)\n",
    "\n",
    "    \"\"\"Removes a node from the list and handles cases where\n",
    "    the node was the head or the tail\"\"\"\n",
    "    def delete(self, node):\n",
    "        self.length -= 1\n",
    "        if self.head is self.tail:\n",
    "            self.head = None\n",
    "            self.tail = None\n",
    "        elif self.head is node:\n",
    "            self.head = node.next\n",
    "            node.delete()\n",
    "        elif self.tail is node:\n",
    "            self.tail = node.prev\n",
    "            node.delete()\n",
    "        else:\n",
    "            node.delete()\n",
    "\n",
    "    \"\"\"Returns the highest value currently in the list\"\"\"\n",
    "    def get_max(self):\n",
    "        max_value = self.head.value\n",
    "        current = self.head\n",
    "        while current is not None:\n",
    "            if current.value > max_value:\n",
    "                max_value = current.value\n",
    "            current = current.next\n",
    "\n",
    "        return max_value\n"
   ]
  },
  {
   "cell_type": "code",
   "execution_count": 147,
   "metadata": {},
   "outputs": [],
   "source": [
    "class RingBuffer:\n",
    "    def __init__(self, capacity):\n",
    "        self.capacity = capacity\n",
    "        self.current = None\n",
    "        self.storage = DoublyLinkedList()\n",
    "\n",
    "   \n",
    "    \n",
    "    def get(self):\n",
    "        list_buffer_contents = []\n",
    "        node = self.storage.head\n",
    "\n",
    "        # # list is empty\n",
    "        # if self.storage.length == 0:\n",
    "        #     return list_buffer_contents\n",
    "    \n",
    "        # else:\n",
    "            # while node exists\n",
    "        while node is not None:\n",
    "            list_buffer_contents.append(node.value)\n",
    "            node = node.next\n",
    "\n",
    "        return list_buffer_contents\n",
    "    \n",
    "    def append(self, item):\n",
    "        # if len(storage) < capacity then we add item to storage\n",
    "        if self.storage.length < self.capacity:\n",
    "            self.storage.add_to_tail(item)\n",
    "            self.current = self.storage.tail\n",
    "      \n",
    "        # if len(storage) is on limit\n",
    "        elif self.current == self.storage.tail:\n",
    "            self.storage.head.value = item\n",
    "            self.current = self.storage.head\n",
    "\n",
    "        # otherwise we remove the old item and add the new item\n",
    "        else:\n",
    "            self.current.next.value = item\n",
    "            self.current = self.current.next\n",
    "\n"
   ]
  },
  {
   "cell_type": "code",
   "execution_count": 148,
   "metadata": {},
   "outputs": [],
   "source": [
    "buffer = RingBuffer(3)"
   ]
  },
  {
   "cell_type": "code",
   "execution_count": 150,
   "metadata": {},
   "outputs": [
    {
     "name": "stdout",
     "output_type": "stream",
     "text": [
      "0\n"
     ]
    }
   ],
   "source": [
    "print(buffer.storage.length)"
   ]
  },
  {
   "cell_type": "code",
   "execution_count": 151,
   "metadata": {},
   "outputs": [],
   "source": [
    "buffer.append('a')\n",
    "buffer.append('b')"
   ]
  },
  {
   "cell_type": "code",
   "execution_count": 152,
   "metadata": {},
   "outputs": [
    {
     "data": {
      "text/plain": [
       "['a', 'b']"
      ]
     },
     "execution_count": 152,
     "metadata": {},
     "output_type": "execute_result"
    }
   ],
   "source": [
    "buffer.get()"
   ]
  },
  {
   "cell_type": "code",
   "execution_count": 153,
   "metadata": {},
   "outputs": [],
   "source": [
    "buffer.append('c')"
   ]
  },
  {
   "cell_type": "code",
   "execution_count": 154,
   "metadata": {},
   "outputs": [
    {
     "data": {
      "text/plain": [
       "['a', 'b', 'c']"
      ]
     },
     "execution_count": 154,
     "metadata": {},
     "output_type": "execute_result"
    }
   ],
   "source": [
    "buffer.get()"
   ]
  },
  {
   "cell_type": "code",
   "execution_count": 155,
   "metadata": {},
   "outputs": [],
   "source": [
    "buffer.append('d')"
   ]
  },
  {
   "cell_type": "code",
   "execution_count": 157,
   "metadata": {},
   "outputs": [
    {
     "data": {
      "text/plain": [
       "['d', 'b', 'c']"
      ]
     },
     "execution_count": 157,
     "metadata": {},
     "output_type": "execute_result"
    }
   ],
   "source": [
    "buffer.get()"
   ]
  },
  {
   "cell_type": "code",
   "execution_count": 158,
   "metadata": {},
   "outputs": [],
   "source": [
    "buffer.append('e')\n",
    "buffer.append('f')"
   ]
  },
  {
   "cell_type": "code",
   "execution_count": 159,
   "metadata": {},
   "outputs": [
    {
     "data": {
      "text/plain": [
       "['d', 'e', 'f']"
      ]
     },
     "execution_count": 159,
     "metadata": {},
     "output_type": "execute_result"
    }
   ],
   "source": [
    "buffer.get()"
   ]
  },
  {
   "cell_type": "code",
   "execution_count": null,
   "metadata": {},
   "outputs": [],
   "source": []
  },
  {
   "cell_type": "code",
   "execution_count": null,
   "metadata": {},
   "outputs": [],
   "source": []
  },
  {
   "cell_type": "code",
   "execution_count": 37,
   "metadata": {},
   "outputs": [],
   "source": [
    "# ----------------Stretch Goal-------------------\n",
    "\n",
    "\n",
    "class ArrayRingBuffer:\n",
    "    def __init__(self, capacity):\n",
    "        pass\n",
    "\n",
    "    def append(self, item):\n",
    "        pass\n",
    "\n",
    "    def get(self):\n",
    "        pass\n"
   ]
  },
  {
   "cell_type": "code",
   "execution_count": 106,
   "metadata": {},
   "outputs": [],
   "source": [
    "## optimisation"
   ]
  },
  {
   "cell_type": "code",
   "execution_count": 111,
   "metadata": {},
   "outputs": [],
   "source": [
    "class BinarySearchTree:\n",
    "    \n",
    "    def __init__(self, value=None):\n",
    "        self.value = value\n",
    "        self.left = None\n",
    "        self.right = None\n",
    "        # print(f\"created new Tree with value: {self.value}\")\n",
    "\n",
    "    # Insert the given value into the tree\n",
    "    def insert(self, value):\n",
    "#         print(value)\n",
    "#         if self.value is None:\n",
    "#             self = BinarySearchTree(value)\n",
    "\n",
    "        if value < self.value:\n",
    "            # print(f\"{value} is less than {self.value}\")\n",
    "            if self.left == None:\n",
    "                self.left = BinarySearchTree(value)\n",
    "            else:\n",
    "                self.left.insert(value)\n",
    "\n",
    "        elif value >= self.value:\n",
    "            # print(f\"value is greater than or == {self.value}\")\n",
    "            if self.right == None:\n",
    "                self.right = BinarySearchTree(value)\n",
    "            else:\n",
    "                self.right.insert(value)\n",
    "        \n",
    "            \n",
    "\n",
    "    # Return True if the tree contains the value\n",
    "    # False if it does not\n",
    "    def contains(self, target):\n",
    "        # find:\n",
    "\n",
    "        # if node is none\n",
    "        #     return false\n",
    "        \n",
    "        \n",
    "        if self == None:\n",
    "            return False\n",
    "\n",
    "        # if node.value == findvalue\n",
    "        #     return true\n",
    "        \n",
    "        elif self.value == target:\n",
    "            return True\n",
    "\n",
    "        # else\n",
    "        #     if find <  node.value\n",
    "        #         find on  left node\n",
    "        #     else\n",
    "        #         find on right node\n",
    "        else:\n",
    "            if target < self.value:\n",
    "                if self.left == None:\n",
    "                    return False\n",
    "                else:\n",
    "                    return self.left.contains(target)\n",
    "\n",
    "            elif target >= self.value:\n",
    "                if self.right == None:\n",
    "                    return False\n",
    "                else:\n",
    "                    return self.right.contains(target)\n",
    "        \n",
    "\n",
    "\n",
    "\n",
    "    # Return the maximum value found in the tree\n",
    "    def get_max(self):\n",
    "        if self.right == None:\n",
    "            return self.value    \n",
    "        return self.right.get_max() \n",
    "    \n",
    "    def get_min(self):\n",
    "        if self.left == None:\n",
    "            return self.value    \n",
    "        return self.left.get_min() \n",
    "     \n",
    "\n",
    "    # Call the function `cb` on the value of each node\n",
    "    # You may use a recursive or iterative approach\n",
    "    def for_each(self, cb):\n",
    "        if( self == None):\n",
    "            return\n",
    "        if self.left != None:\n",
    "            self.left.for_each(cb)\n",
    "        cb(self.value)\n",
    "        if self.right != None:\n",
    "            self.right.for_each(cb)\n",
    "\n",
    "            \n",
    "    def for_each_tree(self):\n",
    "        if( self == None):\n",
    "            return\n",
    "        if self.left != None:\n",
    "            self.left.for_each_tree()\n",
    "        print(self.value)\n",
    "        if self.right != None:\n",
    "            self.right.for_each_tree()\n",
    "\n",
    "# DAY 2 Project -----------------------\n",
    "\n",
    "    # Print all the values in order from low to high\n",
    "    # Hint:  Use a recursive, depth first traversal\n",
    "    def in_order_print(self, node):\n",
    "    \n",
    "#         if( self == None):\n",
    "#             return\n",
    "        if node.left != None:\n",
    "            self.in_order_print(node.left)\n",
    "        print(node.value)\n",
    "        if node.right != None:\n",
    "            self.in_order_print(node.right)\n",
    "        \n",
    "\n",
    "    # Print the value of every node, starting with the given node,\n",
    "    # in an iterative breadth first traversal\n",
    "    def bft_print(self, node):\n",
    "        q = Queue()\n",
    "        q.enqueue(node)\n",
    "        while q.len() > 0:\n",
    "            temp = q.dequeue()\n",
    "            print(temp.value)\n",
    "            if temp.left:\n",
    "                q.enqueue(temp.left)\n",
    "            if temp.right:\n",
    "                q.enqueue(temp.right)\n",
    "\n",
    "    # Print the value of every node, starting with the given node,\n",
    "    # in an iterative depth first traversal\n",
    "    def dft_print(self, node):\n",
    "        s = Stack()\n",
    "        s.push(node)\n",
    "        while s.len() > 0:\n",
    "            temp = s.pop()\n",
    "            print(temp.value)\n",
    "            if temp.left:\n",
    "                s.push(temp.left)\n",
    "            if temp.right:\n",
    "                s.push(temp.right)\n"
   ]
  },
  {
   "cell_type": "code",
   "execution_count": 115,
   "metadata": {},
   "outputs": [
    {
     "name": "stdout",
     "output_type": "stream",
     "text": [
      "64 duplicates:\n",
      "\n",
      "Ahmad Watts, Franklin Cooper, Jaydin Sawyer, Sanai Harrison, Jaden Hawkins, Cloe Norris, Pablo Berg, Giancarlo Warren, Camryn Doyle, Aleah Valentine, Grace Bridges, Daphne Hamilton, Irvin Krause, Justine Soto, Josie Cole, Winston Austin, Ashlee Randall, Leon Cochran, Kale Sawyer, Alvaro Robbins, Malcolm Tucker, Jadyn Mays, Josie Dawson, Clay Wilkinson, Logan Morrow, Salma Meza, Trace Gates, Hayley Morgan, Dulce Hines, Abel Newman, Nathalie Little, Zara Suarez, Leia Foley, William Maldonado, Marley Rivers, Addison Clarke, Kameron Osborne, Aydan Calderon, Ali Collier, Marisol Morris, Peyton Lloyd, Eden Howe, Victoria Roach, Dashawn Green, Carley Gallegos, Selah Hansen, Hallie Vazquez, Piper Hamilton, Lennon Hunt, Andre Carrillo, Devyn Aguirre, River Johnson, Maliyah Serrano, Diego Chaney, Davion Arias, Nelson Acevedo, Malcolm Nelson, Raven Christensen, Luciana Ford, Amiah Hobbs, Megan Porter, Carsen Tyler, Jordin Schneider, Ralph Roth\n",
      "\n",
      "\n",
      "runtime: 0.1508481502532959 seconds\n"
     ]
    }
   ],
   "source": [
    "import time\n",
    "\n",
    "start_time = time.time()\n",
    "\n",
    "f = open('names_1.txt', 'r')\n",
    "names_1 = f.read().split(\"\\n\")  # List containing 10000 names\n",
    "f.close()\n",
    "\n",
    "f = open('names_2.txt', 'r')\n",
    "names_2 = f.read().split(\"\\n\")  # List containing 10000 names\n",
    "f.close()\n",
    "\n",
    "duplicates = []  # Return the list of duplicates in this data structure\n",
    "\n",
    "# Replace the nested for loops below with your improvements\n",
    "bst_names_1 = BinarySearchTree(names_1[0])\n",
    "\n",
    "for name in names_1[1:]:\n",
    "    bst_names_1.insert(name)\n",
    "    \n",
    "# for name_1 in names_1:\n",
    "for name_2 in names_2:\n",
    "    if bst_names_1.contains(name_2):\n",
    "        duplicates.append(name_2)\n",
    "\n",
    "end_time = time.time()\n",
    "print (f\"{len(duplicates)} duplicates:\\n\\n{', '.join(duplicates)}\\n\\n\")\n",
    "print (f\"runtime: {end_time - start_time} seconds\")\n"
   ]
  },
  {
   "cell_type": "code",
   "execution_count": null,
   "metadata": {},
   "outputs": [],
   "source": []
  },
  {
   "cell_type": "code",
   "execution_count": null,
   "metadata": {},
   "outputs": [],
   "source": []
  },
  {
   "cell_type": "code",
   "execution_count": null,
   "metadata": {},
   "outputs": [],
   "source": []
  },
  {
   "cell_type": "code",
   "execution_count": null,
   "metadata": {},
   "outputs": [],
   "source": []
  },
  {
   "cell_type": "code",
   "execution_count": null,
   "metadata": {},
   "outputs": [],
   "source": []
  },
  {
   "cell_type": "code",
   "execution_count": null,
   "metadata": {},
   "outputs": [],
   "source": [
    "class Node:\n",
    "    def __init__(self, value=None, next_node=None):\n",
    "        # the value at this linked list node\n",
    "        self.value = value\n",
    "        # reference to the next node in the list\n",
    "        self.next_node = next_node\n",
    "\n",
    "    def get_value(self):\n",
    "        return self.value\n",
    "\n",
    "    def get_next(self):\n",
    "        return self.next_node\n",
    "\n",
    "    def set_next(self, new_next):\n",
    "        # set this node's next_node reference to the passed in node\n",
    "        self.next_node = new_next\n",
    "\n",
    "\n",
    "class LinkedList:\n",
    "    def __init__(self):\n",
    "        # reference to the head of the list\n",
    "        self.head = None\n",
    "\n",
    "    def add_to_head(self, value):\n",
    "        node = Node(value)\n",
    "        if self.head is not None:\n",
    "            node.set_next(self.head)\n",
    "\n",
    "        self.head = node\n",
    "\n",
    "    def contains(self, value):\n",
    "        if not self.head:\n",
    "            return False\n",
    "        # get a reference to the node we're currently at; update this as we\n",
    "        # traverse the list\n",
    "        current = self.head\n",
    "        # check to see if we're at a valid node\n",
    "        while current:\n",
    "            # return True if the current value we're looking at matches our\n",
    "            # target value\n",
    "            if current.get_value() == value:\n",
    "                return True\n",
    "            # update our current node to the current node's next node\n",
    "            current = current.get_next()\n",
    "        # if we've gotten here, then the target node isn't in our list\n",
    "        return False\n",
    "\n",
    "    def reverse_list(self, node, prev):\n",
    "#         previous = None\n",
    "#         current = head_SLL\n",
    "#         while current.next is not None:\n",
    "#             next_node = current.next\n",
    "#             current.next = previous\n",
    "#             previous = current\n",
    "#             current = next_node\n",
    "#         current.next = previous\n",
    "#         return current\n",
    "\n",
    "        if(node == None):\n",
    "            return None\n",
    "\n",
    "        if (node.get_next() == None):\n",
    "            node.set_next(prev)\n",
    "#             print(self.head.value)\n",
    "            self.head = node\n",
    "            return \n",
    "        next = node.get_next()\n",
    "        node.set_next(prev)\n",
    "        prev = node\n",
    "        node = next\n",
    "        \n",
    "        \n",
    "        return self.reverse_list(node,prev)\n"
   ]
  },
  {
   "cell_type": "code",
   "execution_count": 29,
   "metadata": {},
   "outputs": [],
   "source": [
    "list = LinkedList()"
   ]
  },
  {
   "cell_type": "code",
   "execution_count": 30,
   "metadata": {},
   "outputs": [
    {
     "name": "stdout",
     "output_type": "stream",
     "text": [
      "None\n"
     ]
    }
   ],
   "source": [
    "print(list.reverse_list(list.head,None))"
   ]
  },
  {
   "cell_type": "code",
   "execution_count": 31,
   "metadata": {},
   "outputs": [
    {
     "name": "stdout",
     "output_type": "stream",
     "text": [
      "1\n"
     ]
    }
   ],
   "source": [
    "list = LinkedList()\n",
    "list.add_to_head(4)\n",
    "# print(list.head.value)\n",
    "list.add_to_head(3)\n",
    "# print(list.head.value)\n",
    "list.add_to_head(2)\n",
    "list.add_to_head(1)\n",
    "print(list.head.value)"
   ]
  },
  {
   "cell_type": "code",
   "execution_count": 32,
   "metadata": {},
   "outputs": [
    {
     "name": "stdout",
     "output_type": "stream",
     "text": [
      "1\n",
      "2\n",
      "3\n",
      "4\n"
     ]
    }
   ],
   "source": [
    "node = list.head\n",
    "if node == None :\n",
    "    print(node)\n",
    "else:\n",
    "    while(node):\n",
    "        print(node.get_value())\n",
    "        node = node.get_next()"
   ]
  },
  {
   "cell_type": "code",
   "execution_count": 33,
   "metadata": {},
   "outputs": [
    {
     "name": "stdout",
     "output_type": "stream",
     "text": [
      "1\n"
     ]
    }
   ],
   "source": [
    "list.reverse_list(list.head,None)"
   ]
  },
  {
   "cell_type": "code",
   "execution_count": 34,
   "metadata": {},
   "outputs": [
    {
     "name": "stdout",
     "output_type": "stream",
     "text": [
      "4\n",
      "3\n",
      "2\n",
      "1\n"
     ]
    }
   ],
   "source": [
    "node = list.head\n",
    "if node == None :\n",
    "    print(node)\n",
    "else:\n",
    "    while(node):\n",
    "        print(node.get_value())\n",
    "        node = node.get_next()"
   ]
  },
  {
   "cell_type": "code",
   "execution_count": null,
   "metadata": {},
   "outputs": [],
   "source": []
  },
  {
   "cell_type": "code",
   "execution_count": null,
   "metadata": {},
   "outputs": [],
   "source": []
  },
  {
   "cell_type": "code",
   "execution_count": null,
   "metadata": {},
   "outputs": [],
   "source": []
  },
  {
   "cell_type": "code",
   "execution_count": null,
   "metadata": {},
   "outputs": [],
   "source": []
  },
  {
   "cell_type": "code",
   "execution_count": null,
   "metadata": {},
   "outputs": [],
   "source": []
  },
  {
   "cell_type": "code",
   "execution_count": null,
   "metadata": {},
   "outputs": [],
   "source": []
  },
  {
   "cell_type": "code",
   "execution_count": null,
   "metadata": {},
   "outputs": [],
   "source": []
  },
  {
   "cell_type": "code",
   "execution_count": null,
   "metadata": {},
   "outputs": [],
   "source": []
  }
 ],
 "metadata": {
  "kernelspec": {
   "display_name": "Python 3",
   "language": "python",
   "name": "python3"
  },
  "language_info": {
   "codemirror_mode": {
    "name": "ipython",
    "version": 3
   },
   "file_extension": ".py",
   "mimetype": "text/x-python",
   "name": "python",
   "nbconvert_exporter": "python",
   "pygments_lexer": "ipython3",
   "version": "3.7.4"
  }
 },
 "nbformat": 4,
 "nbformat_minor": 4
}
